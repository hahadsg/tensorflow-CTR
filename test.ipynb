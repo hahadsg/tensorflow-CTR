{
 "cells": [
  {
   "cell_type": "code",
   "execution_count": 1,
   "metadata": {},
   "outputs": [],
   "source": [
    "# coding: utf-8\n",
    "import numpy as np\n",
    "import tensorflow as tf"
   ]
  },
  {
   "cell_type": "code",
   "execution_count": 2,
   "metadata": {},
   "outputs": [],
   "source": [
    "C = 10 # classes num\n",
    "N = 784 # features num\n",
    "learning_rate = 0.01\n",
    "epochs = 2\n",
    "batch_size = 128\n",
    "num_steps = 2000\n",
    "display_step = 100"
   ]
  },
  {
   "cell_type": "code",
   "execution_count": 3,
   "metadata": {},
   "outputs": [],
   "source": [
    "def model_net(X, n_classes, n_features):\n",
    "    W = tf.Variable(tf.zeros([n_features, n_classes]), name='W')\n",
    "    b = tf.Variable(tf.zeros(n_classes), name='b')\n",
    "\n",
    "    logits = tf.matmul(X, W) + b\n",
    "    return logits"
   ]
  },
  {
   "cell_type": "code",
   "execution_count": 15,
   "metadata": {},
   "outputs": [],
   "source": [
    "def loss_fn(logits, labels, l2_reg=0):\n",
    "    logits_loss = tf.losses.sparse_softmax_cross_entropy(labels, logits=logits)\n",
    "    W = tf.get_default_graph().get_tensor_by_name('W:0')\n",
    "    l2_loss = l2_reg * tf.nn.l2_loss(W)\n",
    "    return logits_loss + l2_loss, logits_loss, l2_loss"
   ]
  },
  {
   "cell_type": "code",
   "execution_count": 5,
   "metadata": {},
   "outputs": [],
   "source": [
    "def accuracy_fn(logits, labels):\n",
    "    predictions = tf.nn.softmax(logits)\n",
    "    is_correct = tf.equal(tf.argmax(predictions, axis=1), labels)\n",
    "    accuracy = tf.reduce_mean(tf.cast(is_correct, tf.float32))\n",
    "    return accuracy"
   ]
  },
  {
   "cell_type": "code",
   "execution_count": 6,
   "metadata": {},
   "outputs": [],
   "source": [
    "def train_input_fn(features, labels, batch_size, shuffle_size=1000):\n",
    "    dataset = tf.data.Dataset.from_tensor_slices((features, labels))\n",
    "    dataset = dataset.shuffle(shuffle_size).repeat().batch(batch_size).prefetch(batch_size)\n",
    "    return dataset.make_one_shot_iterator().get_next()"
   ]
  },
  {
   "cell_type": "code",
   "execution_count": 7,
   "metadata": {
    "scrolled": true
   },
   "outputs": [
    {
     "name": "stdout",
     "output_type": "stream",
     "text": [
      "WARNING:tensorflow:From <ipython-input-7-be1f3ebbbdc5>:2: read_data_sets (from tensorflow.contrib.learn.python.learn.datasets.mnist) is deprecated and will be removed in a future version.\n",
      "Instructions for updating:\n",
      "Please use alternatives such as official/mnist/dataset.py from tensorflow/models.\n",
      "WARNING:tensorflow:From /anaconda3/lib/python3.6/site-packages/tensorflow/contrib/learn/python/learn/datasets/mnist.py:260: maybe_download (from tensorflow.contrib.learn.python.learn.datasets.base) is deprecated and will be removed in a future version.\n",
      "Instructions for updating:\n",
      "Please write your own downloading logic.\n",
      "WARNING:tensorflow:From /anaconda3/lib/python3.6/site-packages/tensorflow/contrib/learn/python/learn/datasets/mnist.py:262: extract_images (from tensorflow.contrib.learn.python.learn.datasets.mnist) is deprecated and will be removed in a future version.\n",
      "Instructions for updating:\n",
      "Please use tf.data to implement this functionality.\n",
      "Extracting /tmp/data/train-images-idx3-ubyte.gz\n",
      "WARNING:tensorflow:From /anaconda3/lib/python3.6/site-packages/tensorflow/contrib/learn/python/learn/datasets/mnist.py:267: extract_labels (from tensorflow.contrib.learn.python.learn.datasets.mnist) is deprecated and will be removed in a future version.\n",
      "Instructions for updating:\n",
      "Please use tf.data to implement this functionality.\n",
      "Extracting /tmp/data/train-labels-idx1-ubyte.gz\n",
      "Extracting /tmp/data/t10k-images-idx3-ubyte.gz\n",
      "Extracting /tmp/data/t10k-labels-idx1-ubyte.gz\n",
      "WARNING:tensorflow:From /anaconda3/lib/python3.6/site-packages/tensorflow/contrib/learn/python/learn/datasets/mnist.py:290: DataSet.__init__ (from tensorflow.contrib.learn.python.learn.datasets.mnist) is deprecated and will be removed in a future version.\n",
      "Instructions for updating:\n",
      "Please use alternatives such as official/mnist/dataset.py from tensorflow/models.\n"
     ]
    }
   ],
   "source": [
    "from tensorflow.examples.tutorials.mnist import input_data\n",
    "mnist = input_data.read_data_sets(\"/tmp/data/\", one_hot=False)\n",
    "x_train, y_train = mnist.train.images, mnist.train.labels"
   ]
  },
  {
   "cell_type": "code",
   "execution_count": 8,
   "metadata": {},
   "outputs": [],
   "source": [
    "class CumulateAvg:\n",
    "    def __init__(self, var_list, display_step=100):\n",
    "        self.var_list = var_list\n",
    "        self.reset()\n",
    "        self.display_step = display_step\n",
    "        self.step = 0\n",
    "        \n",
    "    def reset(self):\n",
    "        self.var_dict = {k: 0 for k in self.var_list}\n",
    "        \n",
    "    def avg_var(self):\n",
    "        if self.step > 0:\n",
    "            self.var_dict = {k: v / self.display_step for k, v in self.var_dict.items()}\n",
    "        \n",
    "    def cumulate(self, var_values):\n",
    "        for i, v in enumerate(var_values):\n",
    "            self.var_dict[self.var_list[i]] += v\n",
    "        if self.step == 0 or (self.step + 1) % self.display_step == 0:\n",
    "            self.avg_var()\n",
    "            print_str = 'step: %d' % (self.step + 1)\n",
    "            print_str += ''.join([', %s: %.4f' % (k, self.var_dict[k]) for k in self.var_list])\n",
    "            print(print_str)\n",
    "        self.step += 1"
   ]
  },
  {
   "cell_type": "code",
   "execution_count": 18,
   "metadata": {
    "scrolled": true
   },
   "outputs": [
    {
     "name": "stdout",
     "output_type": "stream",
     "text": [
      "step: 1, loss: 2.3026, accuracy: 0.1172, logits_loss: 2.3026, l2_loss: 0.0000\n",
      "step: 100, loss: 1.8991, accuracy: 0.6779, logits_loss: 1.8925, l2_loss: 0.0066\n",
      "step: 200, loss: 1.4313, accuracy: 0.8008, logits_loss: 1.3987, l2_loss: 0.0326\n",
      "step: 300, loss: 1.2263, accuracy: 0.8207, logits_loss: 1.1629, l2_loss: 0.0634\n",
      "step: 400, loss: 1.0907, accuracy: 0.8346, logits_loss: 0.9987, l2_loss: 0.0920\n",
      "step: 500, loss: 1.0060, accuracy: 0.8488, logits_loss: 0.8885, l2_loss: 0.1175\n",
      "step: 600, loss: 0.9926, accuracy: 0.8460, logits_loss: 0.8542, l2_loss: 0.1384\n",
      "step: 700, loss: 0.9834, accuracy: 0.8514, logits_loss: 0.8269, l2_loss: 0.1565\n",
      "step: 800, loss: 0.9625, accuracy: 0.8493, logits_loss: 0.7905, l2_loss: 0.1720\n",
      "step: 900, loss: 0.8970, accuracy: 0.8764, logits_loss: 0.7116, l2_loss: 0.1854\n",
      "step: 1000, loss: 0.9382, accuracy: 0.8552, logits_loss: 0.7416, l2_loss: 0.1966\n",
      "step: 1100, loss: 0.9346, accuracy: 0.8642, logits_loss: 0.7284, l2_loss: 0.2062\n",
      "step: 1200, loss: 0.9281, accuracy: 0.8618, logits_loss: 0.7134, l2_loss: 0.2147\n",
      "step: 1300, loss: 0.8784, accuracy: 0.8829, logits_loss: 0.6564, l2_loss: 0.2220\n",
      "step: 1400, loss: 0.9238, accuracy: 0.8652, logits_loss: 0.6954, l2_loss: 0.2284\n",
      "step: 1500, loss: 0.9170, accuracy: 0.8674, logits_loss: 0.6834, l2_loss: 0.2336\n",
      "step: 1600, loss: 0.9181, accuracy: 0.8723, logits_loss: 0.6798, l2_loss: 0.2384\n",
      "step: 1700, loss: 0.9018, accuracy: 0.8732, logits_loss: 0.6593, l2_loss: 0.2425\n",
      "step: 1800, loss: 0.8867, accuracy: 0.8811, logits_loss: 0.6403, l2_loss: 0.2463\n",
      "step: 1900, loss: 0.8995, accuracy: 0.8783, logits_loss: 0.6503, l2_loss: 0.2492\n",
      "step: 2000, loss: 0.9235, accuracy: 0.8725, logits_loss: 0.6716, l2_loss: 0.2520\n",
      "step: 2100, loss: 0.9143, accuracy: 0.8704, logits_loss: 0.6598, l2_loss: 0.2545\n",
      "step: 2200, loss: 0.8616, accuracy: 0.8943, logits_loss: 0.6048, l2_loss: 0.2568\n",
      "step: 2300, loss: 0.9127, accuracy: 0.8718, logits_loss: 0.6543, l2_loss: 0.2584\n",
      "step: 2400, loss: 0.9155, accuracy: 0.8760, logits_loss: 0.6554, l2_loss: 0.2601\n",
      "step: 2500, loss: 0.9146, accuracy: 0.8721, logits_loss: 0.6529, l2_loss: 0.2617\n",
      "step: 2600, loss: 0.8650, accuracy: 0.8945, logits_loss: 0.6020, l2_loss: 0.2630\n",
      "step: 2700, loss: 0.9099, accuracy: 0.8733, logits_loss: 0.6457, l2_loss: 0.2642\n",
      "step: 2800, loss: 0.9091, accuracy: 0.8774, logits_loss: 0.6441, l2_loss: 0.2650\n",
      "step: 2900, loss: 0.9123, accuracy: 0.8781, logits_loss: 0.6462, l2_loss: 0.2661\n",
      "step: 3000, loss: 0.8794, accuracy: 0.8881, logits_loss: 0.6126, l2_loss: 0.2668\n",
      "step: 3100, loss: 0.8955, accuracy: 0.8806, logits_loss: 0.6277, l2_loss: 0.2678\n",
      "step: 3200, loss: 0.8929, accuracy: 0.8827, logits_loss: 0.6247, l2_loss: 0.2682\n",
      "step: 3300, loss: 0.9225, accuracy: 0.8763, logits_loss: 0.6538, l2_loss: 0.2688\n",
      "step: 3400, loss: 0.9023, accuracy: 0.8795, logits_loss: 0.6329, l2_loss: 0.2694\n",
      "step: 3500, loss: 0.8645, accuracy: 0.8948, logits_loss: 0.5945, l2_loss: 0.2700\n",
      "step: 3600, loss: 0.9062, accuracy: 0.8777, logits_loss: 0.6360, l2_loss: 0.2702\n",
      "step: 3700, loss: 0.9107, accuracy: 0.8799, logits_loss: 0.6402, l2_loss: 0.2706\n",
      "step: 3800, loss: 0.9154, accuracy: 0.8763, logits_loss: 0.6443, l2_loss: 0.2710\n",
      "step: 3900, loss: 0.8647, accuracy: 0.8952, logits_loss: 0.5932, l2_loss: 0.2714\n",
      "step: 4000, loss: 0.8994, accuracy: 0.8790, logits_loss: 0.6278, l2_loss: 0.2715\n",
      "step: 4100, loss: 0.9120, accuracy: 0.8786, logits_loss: 0.6403, l2_loss: 0.2717\n",
      "step: 4200, loss: 0.9073, accuracy: 0.8811, logits_loss: 0.6352, l2_loss: 0.2721\n",
      "step: 4300, loss: 0.8685, accuracy: 0.8949, logits_loss: 0.5963, l2_loss: 0.2722\n",
      "step: 4400, loss: 0.9067, accuracy: 0.8773, logits_loss: 0.6342, l2_loss: 0.2725\n",
      "step: 4500, loss: 0.8971, accuracy: 0.8822, logits_loss: 0.6247, l2_loss: 0.2725\n",
      "step: 4600, loss: 0.9122, accuracy: 0.8818, logits_loss: 0.6395, l2_loss: 0.2727\n",
      "step: 4700, loss: 0.8951, accuracy: 0.8835, logits_loss: 0.6223, l2_loss: 0.2728\n",
      "step: 4800, loss: 0.8729, accuracy: 0.8909, logits_loss: 0.5997, l2_loss: 0.2732\n",
      "step: 4900, loss: 0.8973, accuracy: 0.8835, logits_loss: 0.6243, l2_loss: 0.2730\n",
      "step: 5000, loss: 0.9112, accuracy: 0.8806, logits_loss: 0.6381, l2_loss: 0.2731\n"
     ]
    }
   ],
   "source": [
    "with tf.Graph().as_default() as g:\n",
    "    with tf.Session().as_default() as sess:\n",
    "        dataset = train_input_fn(x_train, y_train, batch_size)\n",
    "        X, y = dataset\n",
    "        X = tf.cast(X, tf.float32)\n",
    "        y = tf.cast(y, tf.int64)\n",
    "        \n",
    "        logits = model_net(X, C, N)\n",
    "        loss, logits_loss, l2_loss = loss_fn(logits, y, l2_reg=0.05)\n",
    "        accuracy = accuracy_fn(logits, y)\n",
    "        train_op = tf.train.GradientDescentOptimizer(learning_rate).minimize(loss)\n",
    "        sess.run(tf.global_variables_initializer())\n",
    "\n",
    "        var_list = ['loss', 'accuracy', 'logits_loss', 'l2_loss']\n",
    "        cumavg_obj = CumulateAvg(var_list, 100)\n",
    "        for step in range(num_steps):\n",
    "            res_list = sess.run([train_op, *[eval(x) for x in var_list]])\n",
    "            cumavg_obj.cumulate(res_list[1:])"
   ]
  },
  {
   "cell_type": "code",
   "execution_count": null,
   "metadata": {},
   "outputs": [],
   "source": []
  },
  {
   "cell_type": "code",
   "execution_count": null,
   "metadata": {},
   "outputs": [],
   "source": []
  }
 ],
 "metadata": {
  "kernelspec": {
   "display_name": "Python 3",
   "language": "python",
   "name": "python3"
  },
  "language_info": {
   "codemirror_mode": {
    "name": "ipython",
    "version": 3
   },
   "file_extension": ".py",
   "mimetype": "text/x-python",
   "name": "python",
   "nbconvert_exporter": "python",
   "pygments_lexer": "ipython3",
   "version": "3.6.0"
  }
 },
 "nbformat": 4,
 "nbformat_minor": 2
}
