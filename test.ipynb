{
 "cells": [
  {
   "cell_type": "code",
   "execution_count": 1,
   "metadata": {},
   "outputs": [],
   "source": [
    "# coding: utf-8\n",
    "import numpy as np\n",
    "import tensorflow as tf"
   ]
  },
  {
   "cell_type": "code",
   "execution_count": 2,
   "metadata": {},
   "outputs": [],
   "source": [
    "C = 10 # classes num\n",
    "N = 784 # features num\n",
    "learning_rate = 0.01\n",
    "epochs = 2\n",
    "batch_size = 128\n",
    "num_steps = 2000\n",
    "display_step = 100"
   ]
  },
  {
   "cell_type": "code",
   "execution_count": 3,
   "metadata": {},
   "outputs": [],
   "source": [
    "def model_net(X, n_classes, n_features):\n",
    "    W = tf.Variable(tf.zeros([n_features, n_classes]), name='W')\n",
    "    b = tf.Variable(tf.zeros(n_classes), name='b')\n",
    "\n",
    "    logits = tf.matmul(X, W) + b\n",
    "    return logits"
   ]
  },
  {
   "cell_type": "code",
   "execution_count": 4,
   "metadata": {},
   "outputs": [],
   "source": [
    "def log_loss_fn(logits, labels, l2_reg=0):\n",
    "    logits_loss = tf.losses.sparse_softmax_cross_entropy(labels, logits=logits)\n",
    "    W = tf.get_default_graph().get_tensor_by_name('W:0')\n",
    "    l2_loss = l2_reg * tf.nn.l2_loss(W)\n",
    "    return logits_loss + l2_loss, logits_loss, l2_loss"
   ]
  },
  {
   "cell_type": "code",
   "execution_count": 14,
   "metadata": {},
   "outputs": [],
   "source": [
    "def hinge_loss_fn(logits, labels, l2_reg=0):\n",
    "#     logits_loss = tf.losses.hinge_loss(labels, logits=logits)\n",
    "    labels = (tf.one_hot(labels, C) - 0.5) * 2\n",
    "    logits_loss = tf.reduce_mean(tf.maximum(0.0, 1 - logits * labels))\n",
    "    W = tf.get_default_graph().get_tensor_by_name('W:0')\n",
    "    l2_loss = l2_reg * tf.nn.l2_loss(W)\n",
    "    return logits_loss + l2_loss, logits_loss, l2_loss"
   ]
  },
  {
   "cell_type": "code",
   "execution_count": 6,
   "metadata": {},
   "outputs": [],
   "source": [
    "def accuracy_fn(logits, labels):\n",
    "    predictions = tf.nn.softmax(logits)\n",
    "    is_correct = tf.equal(tf.argmax(predictions, axis=1), labels)\n",
    "    accuracy = tf.reduce_mean(tf.cast(is_correct, tf.float32))\n",
    "    return accuracy"
   ]
  },
  {
   "cell_type": "code",
   "execution_count": 7,
   "metadata": {},
   "outputs": [],
   "source": [
    "def train_input_fn(features, labels, batch_size, shuffle_size=1000):\n",
    "    dataset = tf.data.Dataset.from_tensor_slices((features, labels))\n",
    "    dataset = dataset.shuffle(shuffle_size).repeat().batch(batch_size).prefetch(batch_size)\n",
    "    return dataset.make_one_shot_iterator().get_next()"
   ]
  },
  {
   "cell_type": "code",
   "execution_count": 8,
   "metadata": {
    "scrolled": true
   },
   "outputs": [
    {
     "name": "stdout",
     "output_type": "stream",
     "text": [
      "WARNING:tensorflow:From <ipython-input-8-be1f3ebbbdc5>:2: read_data_sets (from tensorflow.contrib.learn.python.learn.datasets.mnist) is deprecated and will be removed in a future version.\n",
      "Instructions for updating:\n",
      "Please use alternatives such as official/mnist/dataset.py from tensorflow/models.\n",
      "WARNING:tensorflow:From /anaconda3/lib/python3.6/site-packages/tensorflow/contrib/learn/python/learn/datasets/mnist.py:260: maybe_download (from tensorflow.contrib.learn.python.learn.datasets.base) is deprecated and will be removed in a future version.\n",
      "Instructions for updating:\n",
      "Please write your own downloading logic.\n",
      "WARNING:tensorflow:From /anaconda3/lib/python3.6/site-packages/tensorflow/contrib/learn/python/learn/datasets/mnist.py:262: extract_images (from tensorflow.contrib.learn.python.learn.datasets.mnist) is deprecated and will be removed in a future version.\n",
      "Instructions for updating:\n",
      "Please use tf.data to implement this functionality.\n",
      "Extracting /tmp/data/train-images-idx3-ubyte.gz\n",
      "WARNING:tensorflow:From /anaconda3/lib/python3.6/site-packages/tensorflow/contrib/learn/python/learn/datasets/mnist.py:267: extract_labels (from tensorflow.contrib.learn.python.learn.datasets.mnist) is deprecated and will be removed in a future version.\n",
      "Instructions for updating:\n",
      "Please use tf.data to implement this functionality.\n",
      "Extracting /tmp/data/train-labels-idx1-ubyte.gz\n",
      "Extracting /tmp/data/t10k-images-idx3-ubyte.gz\n",
      "Extracting /tmp/data/t10k-labels-idx1-ubyte.gz\n",
      "WARNING:tensorflow:From /anaconda3/lib/python3.6/site-packages/tensorflow/contrib/learn/python/learn/datasets/mnist.py:290: DataSet.__init__ (from tensorflow.contrib.learn.python.learn.datasets.mnist) is deprecated and will be removed in a future version.\n",
      "Instructions for updating:\n",
      "Please use alternatives such as official/mnist/dataset.py from tensorflow/models.\n"
     ]
    }
   ],
   "source": [
    "from tensorflow.examples.tutorials.mnist import input_data\n",
    "mnist = input_data.read_data_sets(\"/tmp/data/\", one_hot=False)\n",
    "x_train, y_train = mnist.train.images, mnist.train.labels"
   ]
  },
  {
   "cell_type": "code",
   "execution_count": 9,
   "metadata": {},
   "outputs": [],
   "source": [
    "class CumulateAvg:\n",
    "    def __init__(self, var_list, display_step=100):\n",
    "        self.var_list = var_list\n",
    "        self.reset()\n",
    "        self.display_step = display_step\n",
    "        self.step = 0\n",
    "        \n",
    "    def reset(self):\n",
    "        self.var_dict = {k: 0 for k in self.var_list}\n",
    "        \n",
    "    def avg_var(self):\n",
    "        if self.step > 0:\n",
    "            self.var_dict = {k: v / self.display_step for k, v in self.var_dict.items()}\n",
    "        \n",
    "    def cumulate(self, var_values):\n",
    "        for i, v in enumerate(var_values):\n",
    "            self.var_dict[self.var_list[i]] += v\n",
    "        if self.step == 0 or (self.step + 1) % self.display_step == 0:\n",
    "            self.avg_var()\n",
    "            print_str = 'step: %d' % (self.step + 1)\n",
    "            print_str += ''.join([', %s: %.4f' % (k, self.var_dict[k]) for k in self.var_list])\n",
    "            print(print_str)\n",
    "        self.step += 1"
   ]
  },
  {
   "cell_type": "code",
   "execution_count": 15,
   "metadata": {
    "scrolled": true
   },
   "outputs": [
    {
     "name": "stdout",
     "output_type": "stream",
     "text": [
      "Tensor(\"add_1:0\", shape=(), dtype=float32) Tensor(\"Mean:0\", shape=(), dtype=float32) Tensor(\"mul_2:0\", shape=(), dtype=float32)\n",
      "step: 1, loss: 1.0000, accuracy: 0.1172, logits_loss: 1.0000, l2_loss: 0.0000\n",
      "step: 100, loss: 0.3918, accuracy: 0.6298, logits_loss: 0.3855, l2_loss: 0.0063\n",
      "step: 200, loss: 0.2536, accuracy: 0.6739, logits_loss: 0.2422, l2_loss: 0.0114\n",
      "step: 300, loss: 0.2441, accuracy: 0.6970, logits_loss: 0.2310, l2_loss: 0.0131\n",
      "step: 400, loss: 0.2332, accuracy: 0.7213, logits_loss: 0.2191, l2_loss: 0.0141\n",
      "step: 500, loss: 0.2280, accuracy: 0.7357, logits_loss: 0.2129, l2_loss: 0.0152\n",
      "step: 600, loss: 0.2254, accuracy: 0.7272, logits_loss: 0.2091, l2_loss: 0.0164\n",
      "step: 700, loss: 0.2247, accuracy: 0.7359, logits_loss: 0.2068, l2_loss: 0.0178\n",
      "step: 800, loss: 0.2192, accuracy: 0.7433, logits_loss: 0.2001, l2_loss: 0.0191\n",
      "step: 900, loss: 0.2134, accuracy: 0.7760, logits_loss: 0.1932, l2_loss: 0.0202\n",
      "step: 1000, loss: 0.2153, accuracy: 0.7482, logits_loss: 0.1940, l2_loss: 0.0213\n",
      "step: 1100, loss: 0.2144, accuracy: 0.7558, logits_loss: 0.1918, l2_loss: 0.0225\n",
      "step: 1200, loss: 0.2122, accuracy: 0.7604, logits_loss: 0.1885, l2_loss: 0.0237\n",
      "step: 1300, loss: 0.2063, accuracy: 0.7839, logits_loss: 0.1816, l2_loss: 0.0247\n",
      "step: 1400, loss: 0.2093, accuracy: 0.7586, logits_loss: 0.1836, l2_loss: 0.0257\n",
      "step: 1500, loss: 0.2082, accuracy: 0.7647, logits_loss: 0.1816, l2_loss: 0.0266\n",
      "step: 1600, loss: 0.2080, accuracy: 0.7741, logits_loss: 0.1804, l2_loss: 0.0276\n",
      "step: 1700, loss: 0.2039, accuracy: 0.7831, logits_loss: 0.1755, l2_loss: 0.0283\n",
      "step: 1800, loss: 0.2030, accuracy: 0.7817, logits_loss: 0.1740, l2_loss: 0.0290\n",
      "step: 1900, loss: 0.2036, accuracy: 0.7785, logits_loss: 0.1739, l2_loss: 0.0296\n",
      "step: 2000, loss: 0.2062, accuracy: 0.7733, logits_loss: 0.1759, l2_loss: 0.0304\n"
     ]
    }
   ],
   "source": [
    "with tf.Graph().as_default() as g:\n",
    "    with tf.Session().as_default() as sess:\n",
    "        dataset = train_input_fn(x_train, y_train, batch_size)\n",
    "        X, y = dataset\n",
    "        X = tf.cast(X, tf.float32)\n",
    "        y = tf.cast(y, tf.int64)\n",
    "        \n",
    "        logits = model_net(X, C, N)\n",
    "#         loss, logits_loss, l2_loss = log_loss_fn(logits, y, l2_reg=0.05)\n",
    "        loss, logits_loss, l2_loss = hinge_loss_fn(logits, y, l2_reg=0.05)\n",
    "#         print(loss, logits_loss, l2_loss)\n",
    "        accuracy = accuracy_fn(logits, y)\n",
    "        train_op = tf.train.GradientDescentOptimizer(learning_rate).minimize(loss)\n",
    "        sess.run(tf.global_variables_initializer())\n",
    "\n",
    "        var_list = ['loss', 'accuracy', 'logits_loss', 'l2_loss']\n",
    "        cumavg_obj = CumulateAvg(var_list, 100)\n",
    "        for step in range(num_steps):\n",
    "            res_list = sess.run([train_op, *[eval(x) for x in var_list]])\n",
    "            cumavg_obj.cumulate(res_list[1:])"
   ]
  },
  {
   "cell_type": "code",
   "execution_count": null,
   "metadata": {},
   "outputs": [],
   "source": []
  },
  {
   "cell_type": "code",
   "execution_count": null,
   "metadata": {},
   "outputs": [],
   "source": []
  }
 ],
 "metadata": {
  "kernelspec": {
   "display_name": "Python 3",
   "language": "python",
   "name": "python3"
  },
  "language_info": {
   "codemirror_mode": {
    "name": "ipython",
    "version": 3
   },
   "file_extension": ".py",
   "mimetype": "text/x-python",
   "name": "python",
   "nbconvert_exporter": "python",
   "pygments_lexer": "ipython3",
   "version": "3.6.0"
  }
 },
 "nbformat": 4,
 "nbformat_minor": 2
}
