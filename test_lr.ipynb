{
 "cells": [
  {
   "cell_type": "code",
   "execution_count": 1,
   "metadata": {},
   "outputs": [],
   "source": [
    "# coding: utf-8\n",
    "import numpy as np\n",
    "import tensorflow as tf"
   ]
  },
  {
   "cell_type": "code",
   "execution_count": 2,
   "metadata": {},
   "outputs": [],
   "source": [
    "C = 10 # classes num\n",
    "N = 784 # features num\n",
    "learning_rate = 0.01\n",
    "epochs = 2\n",
    "batch_size = 128\n",
    "num_steps = 2000\n",
    "display_step = 100"
   ]
  },
  {
   "cell_type": "code",
   "execution_count": 3,
   "metadata": {},
   "outputs": [],
   "source": [
    "def logistic_regression(X, n_classes, n_features):\n",
    "    W = tf.Variable(tf.zeros([n_features, n_classes]), name='W')\n",
    "    b = tf.Variable(tf.zeros(n_classes), name='b')\n",
    "\n",
    "    logits = tf.matmul(X, W) + b\n",
    "    return logits"
   ]
  },
  {
   "cell_type": "code",
   "execution_count": 4,
   "metadata": {},
   "outputs": [],
   "source": [
    "def log_loss_fn(logits, labels, l2_reg=0):\n",
    "    logits_loss = tf.losses.sparse_softmax_cross_entropy(labels, logits=logits)\n",
    "    W = tf.get_default_graph().get_tensor_by_name('W:0')\n",
    "    l2_loss = l2_reg * tf.nn.l2_loss(W)\n",
    "    return logits_loss + l2_loss, logits_loss, l2_loss"
   ]
  },
  {
   "cell_type": "code",
   "execution_count": 5,
   "metadata": {},
   "outputs": [],
   "source": [
    "def hinge_loss_fn(logits, labels, l2_reg=0):\n",
    "#     logits_loss = tf.losses.hinge_loss(labels, logits=logits)\n",
    "    labels = (tf.one_hot(labels, C) - 0.5) * 2\n",
    "    logits_loss = tf.reduce_mean(tf.maximum(0.0, 1 - logits * labels))\n",
    "    W = tf.get_default_graph().get_tensor_by_name('W:0')\n",
    "    l2_loss = l2_reg * tf.nn.l2_loss(W)\n",
    "    return logits_loss + l2_loss, logits_loss, l2_loss"
   ]
  },
  {
   "cell_type": "code",
   "execution_count": 6,
   "metadata": {},
   "outputs": [],
   "source": [
    "def accuracy_fn(logits, labels):\n",
    "    predictions = tf.nn.softmax(logits)\n",
    "    is_correct = tf.equal(tf.argmax(predictions, axis=1), labels)\n",
    "    accuracy = tf.reduce_mean(tf.cast(is_correct, tf.float32))\n",
    "    return accuracy"
   ]
  },
  {
   "cell_type": "code",
   "execution_count": 7,
   "metadata": {},
   "outputs": [],
   "source": [
    "def train_input_fn(features, labels, batch_size, shuffle_size=1000):\n",
    "    dataset = tf.data.Dataset.from_tensor_slices((features, labels))\n",
    "    dataset = dataset.shuffle(shuffle_size).repeat().batch(batch_size).prefetch(batch_size)\n",
    "    return dataset.make_one_shot_iterator().get_next()"
   ]
  },
  {
   "cell_type": "code",
   "execution_count": 8,
   "metadata": {
    "scrolled": true
   },
   "outputs": [
    {
     "name": "stdout",
     "output_type": "stream",
     "text": [
      "WARNING:tensorflow:From <ipython-input-8-be1f3ebbbdc5>:2: read_data_sets (from tensorflow.contrib.learn.python.learn.datasets.mnist) is deprecated and will be removed in a future version.\n",
      "Instructions for updating:\n",
      "Please use alternatives such as official/mnist/dataset.py from tensorflow/models.\n",
      "WARNING:tensorflow:From /anaconda3/lib/python3.6/site-packages/tensorflow/contrib/learn/python/learn/datasets/mnist.py:260: maybe_download (from tensorflow.contrib.learn.python.learn.datasets.base) is deprecated and will be removed in a future version.\n",
      "Instructions for updating:\n",
      "Please write your own downloading logic.\n",
      "WARNING:tensorflow:From /anaconda3/lib/python3.6/site-packages/tensorflow/contrib/learn/python/learn/datasets/mnist.py:262: extract_images (from tensorflow.contrib.learn.python.learn.datasets.mnist) is deprecated and will be removed in a future version.\n",
      "Instructions for updating:\n",
      "Please use tf.data to implement this functionality.\n",
      "Extracting /tmp/data/train-images-idx3-ubyte.gz\n",
      "WARNING:tensorflow:From /anaconda3/lib/python3.6/site-packages/tensorflow/contrib/learn/python/learn/datasets/mnist.py:267: extract_labels (from tensorflow.contrib.learn.python.learn.datasets.mnist) is deprecated and will be removed in a future version.\n",
      "Instructions for updating:\n",
      "Please use tf.data to implement this functionality.\n",
      "Extracting /tmp/data/train-labels-idx1-ubyte.gz\n",
      "Extracting /tmp/data/t10k-images-idx3-ubyte.gz\n",
      "Extracting /tmp/data/t10k-labels-idx1-ubyte.gz\n",
      "WARNING:tensorflow:From /anaconda3/lib/python3.6/site-packages/tensorflow/contrib/learn/python/learn/datasets/mnist.py:290: DataSet.__init__ (from tensorflow.contrib.learn.python.learn.datasets.mnist) is deprecated and will be removed in a future version.\n",
      "Instructions for updating:\n",
      "Please use alternatives such as official/mnist/dataset.py from tensorflow/models.\n"
     ]
    }
   ],
   "source": [
    "from tensorflow.examples.tutorials.mnist import input_data\n",
    "mnist = input_data.read_data_sets(\"/tmp/data/\", one_hot=False)\n",
    "x_train, y_train = mnist.train.images, mnist.train.labels"
   ]
  },
  {
   "cell_type": "code",
   "execution_count": 9,
   "metadata": {},
   "outputs": [],
   "source": [
    "class CumulateAvg:\n",
    "    def __init__(self, var_list, display_step=100):\n",
    "        self.var_list = var_list\n",
    "        self.reset()\n",
    "        self.display_step = display_step\n",
    "        self.step = 0\n",
    "        \n",
    "    def reset(self):\n",
    "        self.var_dict = {k: 0 for k in self.var_list}\n",
    "        \n",
    "    def avg_var(self):\n",
    "        if self.step > 0:\n",
    "            self.var_dict = {k: v / self.display_step for k, v in self.var_dict.items()}\n",
    "        \n",
    "    def cumulate(self, var_values):\n",
    "        for i, v in enumerate(var_values):\n",
    "            self.var_dict[self.var_list[i]] += v\n",
    "        if self.step == 0 or (self.step + 1) % self.display_step == 0:\n",
    "            self.avg_var()\n",
    "            print_str = 'step: %d' % (self.step + 1)\n",
    "            print_str += ''.join([', %s: %.4f' % (k, self.var_dict[k]) for k in self.var_list])\n",
    "            print(print_str)\n",
    "        self.step += 1"
   ]
  },
  {
   "cell_type": "code",
   "execution_count": 10,
   "metadata": {
    "scrolled": true
   },
   "outputs": [
    {
     "name": "stdout",
     "output_type": "stream",
     "text": [
      "step: 1, loss: 2.3026, accuracy: 0.1094, logits_loss: 2.3026, l2_loss: 0.0000\n",
      "step: 100, loss: 1.8978, accuracy: 0.6870, logits_loss: 1.8912, l2_loss: 0.0066\n",
      "step: 200, loss: 1.4329, accuracy: 0.7956, logits_loss: 1.4003, l2_loss: 0.0326\n",
      "step: 300, loss: 1.2266, accuracy: 0.8212, logits_loss: 1.1632, l2_loss: 0.0634\n",
      "step: 400, loss: 1.0941, accuracy: 0.8332, logits_loss: 1.0021, l2_loss: 0.0920\n",
      "step: 500, loss: 1.0004, accuracy: 0.8522, logits_loss: 0.8829, l2_loss: 0.1175\n",
      "step: 600, loss: 0.9964, accuracy: 0.8432, logits_loss: 0.8580, l2_loss: 0.1384\n",
      "step: 700, loss: 0.9817, accuracy: 0.8528, logits_loss: 0.8252, l2_loss: 0.1565\n",
      "step: 800, loss: 0.9619, accuracy: 0.8496, logits_loss: 0.7900, l2_loss: 0.1720\n",
      "step: 900, loss: 0.8966, accuracy: 0.8752, logits_loss: 0.7112, l2_loss: 0.1854\n",
      "step: 1000, loss: 0.9351, accuracy: 0.8577, logits_loss: 0.7384, l2_loss: 0.1966\n",
      "step: 1100, loss: 0.9396, accuracy: 0.8626, logits_loss: 0.7334, l2_loss: 0.2062\n",
      "step: 1200, loss: 0.9248, accuracy: 0.8634, logits_loss: 0.7101, l2_loss: 0.2148\n",
      "step: 1300, loss: 0.8806, accuracy: 0.8816, logits_loss: 0.6586, l2_loss: 0.2220\n",
      "step: 1400, loss: 0.9239, accuracy: 0.8647, logits_loss: 0.6955, l2_loss: 0.2284\n",
      "step: 1500, loss: 0.9144, accuracy: 0.8685, logits_loss: 0.6808, l2_loss: 0.2336\n",
      "step: 1600, loss: 0.9205, accuracy: 0.8707, logits_loss: 0.6821, l2_loss: 0.2384\n",
      "step: 1700, loss: 0.8994, accuracy: 0.8745, logits_loss: 0.6570, l2_loss: 0.2425\n",
      "step: 1800, loss: 0.8876, accuracy: 0.8806, logits_loss: 0.6413, l2_loss: 0.2464\n",
      "step: 1900, loss: 0.8963, accuracy: 0.8782, logits_loss: 0.6470, l2_loss: 0.2492\n",
      "step: 2000, loss: 0.9289, accuracy: 0.8702, logits_loss: 0.6769, l2_loss: 0.2520\n"
     ]
    }
   ],
   "source": [
    "with tf.Graph().as_default() as g:\n",
    "    with tf.Session().as_default() as sess:\n",
    "        dataset = train_input_fn(x_train, y_train, batch_size)\n",
    "        X, y = dataset\n",
    "        X = tf.cast(X, tf.float32)\n",
    "        y = tf.cast(y, tf.int64)\n",
    "        \n",
    "        logits = logistic_regression(X, C, N)\n",
    "        \n",
    "        loss, logits_loss, l2_loss = log_loss_fn(logits, y, l2_reg=0.05)\n",
    "#         loss, logits_loss, l2_loss = hinge_loss_fn(logits, y, l2_reg=0.05)\n",
    "\n",
    "        accuracy = accuracy_fn(logits, y)\n",
    "        train_op = tf.train.GradientDescentOptimizer(learning_rate).minimize(loss)\n",
    "        sess.run(tf.global_variables_initializer())\n",
    "\n",
    "        var_list = ['loss', 'accuracy', 'logits_loss', 'l2_loss']\n",
    "        cumavg_obj = CumulateAvg(var_list, 100)\n",
    "        for step in range(num_steps):\n",
    "            res_list = sess.run([train_op, *[eval(x) for x in var_list]])\n",
    "            cumavg_obj.cumulate(res_list[1:])"
   ]
  },
  {
   "cell_type": "code",
   "execution_count": null,
   "metadata": {},
   "outputs": [],
   "source": []
  },
  {
   "cell_type": "code",
   "execution_count": null,
   "metadata": {},
   "outputs": [],
   "source": []
  }
 ],
 "metadata": {
  "kernelspec": {
   "display_name": "Python 3",
   "language": "python",
   "name": "python3"
  },
  "language_info": {
   "codemirror_mode": {
    "name": "ipython",
    "version": 3
   },
   "file_extension": ".py",
   "mimetype": "text/x-python",
   "name": "python",
   "nbconvert_exporter": "python",
   "pygments_lexer": "ipython3",
   "version": "3.6.0"
  }
 },
 "nbformat": 4,
 "nbformat_minor": 2
}
