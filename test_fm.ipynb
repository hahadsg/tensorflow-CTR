{
 "cells": [
  {
   "cell_type": "code",
   "execution_count": 1,
   "metadata": {},
   "outputs": [],
   "source": [
    "# coding: utf-8\n",
    "import numpy as np\n",
    "import tensorflow as tf"
   ]
  },
  {
   "cell_type": "code",
   "execution_count": 2,
   "metadata": {},
   "outputs": [],
   "source": [
    "C = 10 # classes num\n",
    "N = 784 # features num\n",
    "fm_k = 10\n",
    "learning_rate = 0.01\n",
    "epochs = 2\n",
    "batch_size = 128\n",
    "num_steps = 2000\n",
    "display_step = 100"
   ]
  },
  {
   "cell_type": "markdown",
   "metadata": {},
   "source": [
    "$$\\hat{y(x)} = w_0 + \\sum\\limits_{i=1}^n w_i x_i + \\sum\\limits_{i=1}^{n} \\sum\\limits_{j=i+1}^{n} <v_i, v_j> x_i x_j$$\n",
    "\n",
    "$$\\sum\\limits_{i=1}^{n} \\sum\\limits_{j=i+1}^{n} <v_i, v_j> x_i x_j = \\frac{1}{2} \\sum\\limits_{f=1}^{k} ((\\sum\\limits_{i=1}^{n} v_{i,f} x_i)^2 - \\sum\\limits_{i=1}^{n} v_{i,f}^2 x_i^2)$$"
   ]
  },
  {
   "cell_type": "code",
   "execution_count": 4,
   "metadata": {},
   "outputs": [],
   "source": [
    "def fm(X, n_classes, n_features, k):\n",
    "    W0 = tf.Variable(tf.zeros(n_classes), name='W0')\n",
    "    W1 = tf.Variable(tf.zeros([n_features, n_classes]), name='W1')\n",
    "    W2 = tf.Variable(tf.zeros([k, n_features, n_classes]), name='W2')\n",
    "    \n",
    "    # TODO: 将term的for循环写成矩阵计算\n",
    "    # TODO: tensorflow对稀疏数据如何处理\n",
    "    term2 = None\n",
    "    for i in range(0, k):\n",
    "        elem = tf.square(tf.matmul(X, W2[i])) - tf.matmul(tf.pow(X, 2), tf.square(W2[i]))\n",
    "        term2 = term2 + elem if term2 is not None else elem\n",
    "    logits = W0 + tf.matmul(X, W1) + term2\n",
    "    return logits"
   ]
  },
  {
   "cell_type": "code",
   "execution_count": 5,
   "metadata": {},
   "outputs": [],
   "source": [
    "def log_loss_fn(logits, labels, l2_reg=0):\n",
    "    logits_loss = tf.losses.sparse_softmax_cross_entropy(labels, logits=logits)\n",
    "    W1 = tf.get_default_graph().get_tensor_by_name('W1:0')\n",
    "    W2 = tf.get_default_graph().get_tensor_by_name('W2:0')\n",
    "    l2_loss = l2_reg * tf.nn.l2_loss(W1) + l2_reg * tf.nn.l2_loss(W2)\n",
    "    return logits_loss + l2_loss, logits_loss, l2_loss"
   ]
  },
  {
   "cell_type": "code",
   "execution_count": 6,
   "metadata": {},
   "outputs": [],
   "source": [
    "# def hinge_loss_fn(logits, labels, l2_reg=0):\n",
    "# #     logits_loss = tf.losses.hinge_loss(labels, logits=logits)\n",
    "#     labels = (tf.one_hot(labels, C) - 0.5) * 2\n",
    "#     logits_loss = tf.reduce_mean(tf.maximum(0.0, 1 - logits * labels))\n",
    "#     W = tf.get_default_graph().get_tensor_by_name('W:0')\n",
    "#     l2_loss = l2_reg * tf.nn.l2_loss(W)\n",
    "#     return logits_loss + l2_loss, logits_loss, l2_loss"
   ]
  },
  {
   "cell_type": "code",
   "execution_count": 7,
   "metadata": {},
   "outputs": [],
   "source": [
    "def accuracy_fn(logits, labels):\n",
    "    predictions = tf.nn.softmax(logits)\n",
    "    is_correct = tf.equal(tf.argmax(predictions, axis=1), labels)\n",
    "    accuracy = tf.reduce_mean(tf.cast(is_correct, tf.float32))\n",
    "    return accuracy"
   ]
  },
  {
   "cell_type": "code",
   "execution_count": 8,
   "metadata": {},
   "outputs": [],
   "source": [
    "def train_input_fn(features, labels, batch_size, shuffle_size=1000):\n",
    "    dataset = tf.data.Dataset.from_tensor_slices((features, labels))\n",
    "    dataset = dataset.shuffle(shuffle_size).repeat().batch(batch_size).prefetch(batch_size)\n",
    "    return dataset.make_one_shot_iterator().get_next()"
   ]
  },
  {
   "cell_type": "code",
   "execution_count": 9,
   "metadata": {
    "scrolled": true
   },
   "outputs": [
    {
     "name": "stdout",
     "output_type": "stream",
     "text": [
      "WARNING:tensorflow:From <ipython-input-9-be1f3ebbbdc5>:2: read_data_sets (from tensorflow.contrib.learn.python.learn.datasets.mnist) is deprecated and will be removed in a future version.\n",
      "Instructions for updating:\n",
      "Please use alternatives such as official/mnist/dataset.py from tensorflow/models.\n",
      "WARNING:tensorflow:From /anaconda3/lib/python3.6/site-packages/tensorflow/contrib/learn/python/learn/datasets/mnist.py:260: maybe_download (from tensorflow.contrib.learn.python.learn.datasets.base) is deprecated and will be removed in a future version.\n",
      "Instructions for updating:\n",
      "Please write your own downloading logic.\n",
      "WARNING:tensorflow:From /anaconda3/lib/python3.6/site-packages/tensorflow/contrib/learn/python/learn/datasets/mnist.py:262: extract_images (from tensorflow.contrib.learn.python.learn.datasets.mnist) is deprecated and will be removed in a future version.\n",
      "Instructions for updating:\n",
      "Please use tf.data to implement this functionality.\n",
      "Extracting /tmp/data/train-images-idx3-ubyte.gz\n",
      "WARNING:tensorflow:From /anaconda3/lib/python3.6/site-packages/tensorflow/contrib/learn/python/learn/datasets/mnist.py:267: extract_labels (from tensorflow.contrib.learn.python.learn.datasets.mnist) is deprecated and will be removed in a future version.\n",
      "Instructions for updating:\n",
      "Please use tf.data to implement this functionality.\n",
      "Extracting /tmp/data/train-labels-idx1-ubyte.gz\n",
      "Extracting /tmp/data/t10k-images-idx3-ubyte.gz\n",
      "Extracting /tmp/data/t10k-labels-idx1-ubyte.gz\n",
      "WARNING:tensorflow:From /anaconda3/lib/python3.6/site-packages/tensorflow/contrib/learn/python/learn/datasets/mnist.py:290: DataSet.__init__ (from tensorflow.contrib.learn.python.learn.datasets.mnist) is deprecated and will be removed in a future version.\n",
      "Instructions for updating:\n",
      "Please use alternatives such as official/mnist/dataset.py from tensorflow/models.\n"
     ]
    }
   ],
   "source": [
    "# TODO: 其实用图片进行FM测试不太好，后面找个好点的数据集\n",
    "from tensorflow.examples.tutorials.mnist import input_data\n",
    "mnist = input_data.read_data_sets(\"/tmp/data/\", one_hot=False)\n",
    "x_train, y_train = mnist.train.images, mnist.train.labels"
   ]
  },
  {
   "cell_type": "code",
   "execution_count": 10,
   "metadata": {},
   "outputs": [],
   "source": [
    "class CumulateAvg:\n",
    "    \"\"\"记录每个step的accuracy、loss等数值，每隔display_step求一次平均值并打印\n",
    "    \"\"\"\n",
    "    def __init__(self, var_list, display_step=100):\n",
    "        self.var_list = var_list\n",
    "        self.reset()\n",
    "        self.display_step = display_step\n",
    "        self.step = 0\n",
    "        \n",
    "    def reset(self):\n",
    "        self.var_dict = {k: 0 for k in self.var_list}\n",
    "        \n",
    "    def avg_var(self):\n",
    "        if self.step > 0:\n",
    "            self.var_dict = {k: v / self.display_step for k, v in self.var_dict.items()}\n",
    "        \n",
    "    def cumulate(self, var_values):\n",
    "        for i, v in enumerate(var_values):\n",
    "            self.var_dict[self.var_list[i]] += v\n",
    "        if self.step == 0 or (self.step + 1) % self.display_step == 0:\n",
    "            self.avg_var()\n",
    "            print_str = 'step: %d' % (self.step + 1)\n",
    "            print_str += ''.join([', %s: %.4f' % (k, self.var_dict[k]) for k in self.var_list])\n",
    "            print(print_str)\n",
    "        self.step += 1"
   ]
  },
  {
   "cell_type": "code",
   "execution_count": 11,
   "metadata": {
    "scrolled": true
   },
   "outputs": [
    {
     "name": "stdout",
     "output_type": "stream",
     "text": [
      "step: 1, loss: 2.3026, accuracy: 0.1172, logits_loss: 2.3026, l2_loss: 0.0000\n",
      "step: 100, loss: 1.9000, accuracy: 0.6724, logits_loss: 1.8934, l2_loss: 0.0066\n",
      "step: 200, loss: 1.4318, accuracy: 0.7980, logits_loss: 1.3993, l2_loss: 0.0326\n",
      "step: 300, loss: 1.2280, accuracy: 0.8206, logits_loss: 1.1646, l2_loss: 0.0634\n",
      "step: 400, loss: 1.0887, accuracy: 0.8360, logits_loss: 0.9967, l2_loss: 0.0920\n",
      "step: 500, loss: 1.0046, accuracy: 0.8509, logits_loss: 0.8871, l2_loss: 0.1175\n",
      "step: 600, loss: 0.9925, accuracy: 0.8463, logits_loss: 0.8541, l2_loss: 0.1384\n",
      "step: 700, loss: 0.9828, accuracy: 0.8514, logits_loss: 0.8263, l2_loss: 0.1565\n",
      "step: 800, loss: 0.9623, accuracy: 0.8496, logits_loss: 0.7904, l2_loss: 0.1720\n",
      "step: 900, loss: 0.8980, accuracy: 0.8750, logits_loss: 0.7126, l2_loss: 0.1855\n",
      "step: 1000, loss: 0.9362, accuracy: 0.8555, logits_loss: 0.7396, l2_loss: 0.1967\n",
      "step: 1100, loss: 0.9372, accuracy: 0.8645, logits_loss: 0.7309, l2_loss: 0.2062\n",
      "step: 1200, loss: 0.9263, accuracy: 0.8622, logits_loss: 0.7116, l2_loss: 0.2147\n",
      "step: 1300, loss: 0.8793, accuracy: 0.8832, logits_loss: 0.6573, l2_loss: 0.2220\n",
      "step: 1400, loss: 0.9254, accuracy: 0.8627, logits_loss: 0.6970, l2_loss: 0.2284\n",
      "step: 1500, loss: 0.9160, accuracy: 0.8678, logits_loss: 0.6824, l2_loss: 0.2336\n",
      "step: 1600, loss: 0.9190, accuracy: 0.8702, logits_loss: 0.6806, l2_loss: 0.2384\n",
      "step: 1700, loss: 0.8992, accuracy: 0.8754, logits_loss: 0.6568, l2_loss: 0.2424\n",
      "step: 1800, loss: 0.8888, accuracy: 0.8802, logits_loss: 0.6424, l2_loss: 0.2464\n",
      "step: 1900, loss: 0.8991, accuracy: 0.8778, logits_loss: 0.6498, l2_loss: 0.2492\n",
      "step: 2000, loss: 0.9223, accuracy: 0.8732, logits_loss: 0.6703, l2_loss: 0.2520\n"
     ]
    }
   ],
   "source": [
    "with tf.Graph().as_default() as g:\n",
    "    with tf.Session().as_default() as sess:\n",
    "        dataset = train_input_fn(x_train, y_train, batch_size)\n",
    "        X, y = dataset\n",
    "        X = tf.cast(X, tf.float32)\n",
    "        y = tf.cast(y, tf.int64)\n",
    "        \n",
    "        logits = fm(X, C, N, fm_k)\n",
    "        \n",
    "        loss, logits_loss, l2_loss = log_loss_fn(logits, y, l2_reg=0.05)\n",
    "#         loss, logits_loss, l2_loss = hinge_loss_fn(logits, y, l2_reg=0.05)\n",
    "\n",
    "        accuracy = accuracy_fn(logits, y)\n",
    "        train_op = tf.train.GradientDescentOptimizer(learning_rate).minimize(loss)\n",
    "        sess.run(tf.global_variables_initializer())\n",
    "\n",
    "        var_list = ['loss', 'accuracy', 'logits_loss', 'l2_loss']\n",
    "        cumavg_obj = CumulateAvg(var_list, 100)\n",
    "        for step in range(num_steps):\n",
    "            res_list = sess.run([train_op, *[eval(x) for x in var_list]])\n",
    "            cumavg_obj.cumulate(res_list[1:])"
   ]
  },
  {
   "cell_type": "code",
   "execution_count": null,
   "metadata": {},
   "outputs": [],
   "source": []
  },
  {
   "cell_type": "code",
   "execution_count": null,
   "metadata": {},
   "outputs": [],
   "source": []
  }
 ],
 "metadata": {
  "kernelspec": {
   "display_name": "Python 3",
   "language": "python",
   "name": "python3"
  },
  "language_info": {
   "codemirror_mode": {
    "name": "ipython",
    "version": 3
   },
   "file_extension": ".py",
   "mimetype": "text/x-python",
   "name": "python",
   "nbconvert_exporter": "python",
   "pygments_lexer": "ipython3",
   "version": "3.6.0"
  }
 },
 "nbformat": 4,
 "nbformat_minor": 2
}
