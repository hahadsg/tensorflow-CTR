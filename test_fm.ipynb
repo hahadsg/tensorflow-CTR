{
 "cells": [
  {
   "cell_type": "code",
   "execution_count": 1,
   "metadata": {},
   "outputs": [],
   "source": [
    "# coding: utf-8\n",
    "import numpy as np\n",
    "import tensorflow as tf"
   ]
  },
  {
   "cell_type": "code",
   "execution_count": 2,
   "metadata": {},
   "outputs": [],
   "source": [
    "C = 10 # classes num\n",
    "N = 784 # features num\n",
    "fm_k = 10\n",
    "learning_rate = 0.01\n",
    "epochs = 2\n",
    "batch_size = 128\n",
    "num_steps = 2000\n",
    "display_step = 100"
   ]
  },
  {
   "cell_type": "code",
   "execution_count": 3,
   "metadata": {},
   "outputs": [],
   "source": [
    "# tf.zeros([X.shape.as_list()[1], C])"
   ]
  },
  {
   "cell_type": "code",
   "execution_count": 4,
   "metadata": {},
   "outputs": [],
   "source": [
    "def fm(X, n_classes, n_features, k):\n",
    "    W0 = tf.Variable(tf.zeros(n_classes), name='W0')\n",
    "    W1 = tf.Variable(tf.zeros([n_features, n_classes]), name='W1')\n",
    "    W2 = tf.Variable(tf.zeros([k, n_features, n_classes]), name='W2')\n",
    "    \n",
    "    term2 = None\n",
    "    for i in range(0, k):\n",
    "        elem = tf.square(tf.matmul(X, W2[i])) - tf.matmul(tf.pow(X, 2), tf.square(W2[i]))\n",
    "        term2 = term2 + elem if term2 is not None else elem\n",
    "    logits = W0 + tf.matmul(X, W1) + term2\n",
    "    return logits"
   ]
  },
  {
   "cell_type": "code",
   "execution_count": 5,
   "metadata": {},
   "outputs": [],
   "source": [
    "def log_loss_fn(logits, labels, l2_reg=0):\n",
    "    logits_loss = tf.losses.sparse_softmax_cross_entropy(labels, logits=logits)\n",
    "    return logits_loss, logits_loss, logits_loss\n",
    "#     W = tf.get_default_graph().get_tensor_by_name('W:0')\n",
    "#     l2_loss = l2_reg * tf.nn.l2_loss(W)\n",
    "#     return logits_loss + l2_loss, logits_loss, l2_loss"
   ]
  },
  {
   "cell_type": "code",
   "execution_count": 6,
   "metadata": {},
   "outputs": [],
   "source": [
    "# def hinge_loss_fn(logits, labels, l2_reg=0):\n",
    "# #     logits_loss = tf.losses.hinge_loss(labels, logits=logits)\n",
    "#     labels = (tf.one_hot(labels, C) - 0.5) * 2\n",
    "#     logits_loss = tf.reduce_mean(tf.maximum(0.0, 1 - logits * labels))\n",
    "#     W = tf.get_default_graph().get_tensor_by_name('W:0')\n",
    "#     l2_loss = l2_reg * tf.nn.l2_loss(W)\n",
    "#     return logits_loss + l2_loss, logits_loss, l2_loss"
   ]
  },
  {
   "cell_type": "code",
   "execution_count": 7,
   "metadata": {},
   "outputs": [],
   "source": [
    "def accuracy_fn(logits, labels):\n",
    "    predictions = tf.nn.softmax(logits)\n",
    "    is_correct = tf.equal(tf.argmax(predictions, axis=1), labels)\n",
    "    accuracy = tf.reduce_mean(tf.cast(is_correct, tf.float32))\n",
    "    return accuracy"
   ]
  },
  {
   "cell_type": "code",
   "execution_count": 8,
   "metadata": {},
   "outputs": [],
   "source": [
    "def train_input_fn(features, labels, batch_size, shuffle_size=1000):\n",
    "    dataset = tf.data.Dataset.from_tensor_slices((features, labels))\n",
    "    dataset = dataset.shuffle(shuffle_size).repeat().batch(batch_size).prefetch(batch_size)\n",
    "    return dataset.make_one_shot_iterator().get_next()"
   ]
  },
  {
   "cell_type": "code",
   "execution_count": 9,
   "metadata": {
    "scrolled": true
   },
   "outputs": [
    {
     "name": "stdout",
     "output_type": "stream",
     "text": [
      "WARNING:tensorflow:From <ipython-input-9-be1f3ebbbdc5>:2: read_data_sets (from tensorflow.contrib.learn.python.learn.datasets.mnist) is deprecated and will be removed in a future version.\n",
      "Instructions for updating:\n",
      "Please use alternatives such as official/mnist/dataset.py from tensorflow/models.\n",
      "WARNING:tensorflow:From /anaconda3/lib/python3.6/site-packages/tensorflow/contrib/learn/python/learn/datasets/mnist.py:260: maybe_download (from tensorflow.contrib.learn.python.learn.datasets.base) is deprecated and will be removed in a future version.\n",
      "Instructions for updating:\n",
      "Please write your own downloading logic.\n",
      "WARNING:tensorflow:From /anaconda3/lib/python3.6/site-packages/tensorflow/contrib/learn/python/learn/datasets/mnist.py:262: extract_images (from tensorflow.contrib.learn.python.learn.datasets.mnist) is deprecated and will be removed in a future version.\n",
      "Instructions for updating:\n",
      "Please use tf.data to implement this functionality.\n",
      "Extracting /tmp/data/train-images-idx3-ubyte.gz\n",
      "WARNING:tensorflow:From /anaconda3/lib/python3.6/site-packages/tensorflow/contrib/learn/python/learn/datasets/mnist.py:267: extract_labels (from tensorflow.contrib.learn.python.learn.datasets.mnist) is deprecated and will be removed in a future version.\n",
      "Instructions for updating:\n",
      "Please use tf.data to implement this functionality.\n",
      "Extracting /tmp/data/train-labels-idx1-ubyte.gz\n",
      "Extracting /tmp/data/t10k-images-idx3-ubyte.gz\n",
      "Extracting /tmp/data/t10k-labels-idx1-ubyte.gz\n",
      "WARNING:tensorflow:From /anaconda3/lib/python3.6/site-packages/tensorflow/contrib/learn/python/learn/datasets/mnist.py:290: DataSet.__init__ (from tensorflow.contrib.learn.python.learn.datasets.mnist) is deprecated and will be removed in a future version.\n",
      "Instructions for updating:\n",
      "Please use alternatives such as official/mnist/dataset.py from tensorflow/models.\n"
     ]
    }
   ],
   "source": [
    "from tensorflow.examples.tutorials.mnist import input_data\n",
    "mnist = input_data.read_data_sets(\"/tmp/data/\", one_hot=False)\n",
    "x_train, y_train = mnist.train.images, mnist.train.labels"
   ]
  },
  {
   "cell_type": "code",
   "execution_count": 10,
   "metadata": {},
   "outputs": [],
   "source": [
    "class CumulateAvg:\n",
    "    def __init__(self, var_list, display_step=100):\n",
    "        self.var_list = var_list\n",
    "        self.reset()\n",
    "        self.display_step = display_step\n",
    "        self.step = 0\n",
    "        \n",
    "    def reset(self):\n",
    "        self.var_dict = {k: 0 for k in self.var_list}\n",
    "        \n",
    "    def avg_var(self):\n",
    "        if self.step > 0:\n",
    "            self.var_dict = {k: v / self.display_step for k, v in self.var_dict.items()}\n",
    "        \n",
    "    def cumulate(self, var_values):\n",
    "        for i, v in enumerate(var_values):\n",
    "            self.var_dict[self.var_list[i]] += v\n",
    "        if self.step == 0 or (self.step + 1) % self.display_step == 0:\n",
    "            self.avg_var()\n",
    "            print_str = 'step: %d' % (self.step + 1)\n",
    "            print_str += ''.join([', %s: %.4f' % (k, self.var_dict[k]) for k in self.var_list])\n",
    "            print(print_str)\n",
    "        self.step += 1"
   ]
  },
  {
   "cell_type": "code",
   "execution_count": 11,
   "metadata": {
    "scrolled": true
   },
   "outputs": [
    {
     "name": "stdout",
     "output_type": "stream",
     "text": [
      "step: 1, loss: 2.3026, accuracy: 0.0859, logits_loss: 2.3026, l2_loss: 2.3026\n",
      "step: 100, loss: 1.8882, accuracy: 0.6845, logits_loss: 1.8882, l2_loss: 1.8882\n",
      "step: 200, loss: 1.3751, accuracy: 0.7983, logits_loss: 1.3751, l2_loss: 1.3751\n",
      "step: 300, loss: 1.1245, accuracy: 0.8228, logits_loss: 1.1245, l2_loss: 1.1245\n",
      "step: 400, loss: 0.9479, accuracy: 0.8364, logits_loss: 0.9479, l2_loss: 0.9479\n",
      "step: 500, loss: 0.8232, accuracy: 0.8538, logits_loss: 0.8232, l2_loss: 0.8232\n",
      "step: 600, loss: 0.7824, accuracy: 0.8481, logits_loss: 0.7824, l2_loss: 0.7824\n",
      "step: 700, loss: 0.7494, accuracy: 0.8554, logits_loss: 0.7494, l2_loss: 0.7494\n",
      "step: 800, loss: 0.7023, accuracy: 0.8539, logits_loss: 0.7023, l2_loss: 0.7023\n",
      "step: 900, loss: 0.6158, accuracy: 0.8808, logits_loss: 0.6158, l2_loss: 0.6158\n",
      "step: 1000, loss: 0.6411, accuracy: 0.8608, logits_loss: 0.6411, l2_loss: 0.6411\n",
      "step: 1100, loss: 0.6222, accuracy: 0.8682, logits_loss: 0.6222, l2_loss: 0.6222\n",
      "step: 1200, loss: 0.5986, accuracy: 0.8680, logits_loss: 0.5986, l2_loss: 0.5986\n",
      "step: 1300, loss: 0.5410, accuracy: 0.8867, logits_loss: 0.5410, l2_loss: 0.5410\n",
      "step: 1400, loss: 0.5743, accuracy: 0.8703, logits_loss: 0.5743, l2_loss: 0.5743\n",
      "step: 1500, loss: 0.5524, accuracy: 0.8758, logits_loss: 0.5524, l2_loss: 0.5524\n",
      "step: 1600, loss: 0.5448, accuracy: 0.8774, logits_loss: 0.5448, l2_loss: 0.5448\n",
      "step: 1700, loss: 0.5216, accuracy: 0.8806, logits_loss: 0.5216, l2_loss: 0.5216\n",
      "step: 1800, loss: 0.5039, accuracy: 0.8869, logits_loss: 0.5039, l2_loss: 0.5039\n",
      "step: 1900, loss: 0.5004, accuracy: 0.8861, logits_loss: 0.5004, l2_loss: 0.5004\n",
      "step: 2000, loss: 0.5206, accuracy: 0.8807, logits_loss: 0.5206, l2_loss: 0.5206\n"
     ]
    }
   ],
   "source": [
    "with tf.Graph().as_default() as g:\n",
    "    with tf.Session().as_default() as sess:\n",
    "        dataset = train_input_fn(x_train, y_train, batch_size)\n",
    "        X, y = dataset\n",
    "        X = tf.cast(X, tf.float32)\n",
    "        y = tf.cast(y, tf.int64)\n",
    "        \n",
    "        logits = fm(X, C, N, fm_k)\n",
    "        \n",
    "        loss, logits_loss, l2_loss = log_loss_fn(logits, y, l2_reg=0.05)\n",
    "#         loss, logits_loss, l2_loss = hinge_loss_fn(logits, y, l2_reg=0.05)\n",
    "\n",
    "        accuracy = accuracy_fn(logits, y)\n",
    "        train_op = tf.train.GradientDescentOptimizer(learning_rate).minimize(loss)\n",
    "        sess.run(tf.global_variables_initializer())\n",
    "\n",
    "        var_list = ['loss', 'accuracy', 'logits_loss', 'l2_loss']\n",
    "        cumavg_obj = CumulateAvg(var_list, 100)\n",
    "        for step in range(num_steps):\n",
    "            res_list = sess.run([train_op, *[eval(x) for x in var_list]])\n",
    "            cumavg_obj.cumulate(res_list[1:])"
   ]
  },
  {
   "cell_type": "code",
   "execution_count": null,
   "metadata": {},
   "outputs": [],
   "source": []
  },
  {
   "cell_type": "code",
   "execution_count": null,
   "metadata": {},
   "outputs": [],
   "source": []
  }
 ],
 "metadata": {
  "kernelspec": {
   "display_name": "Python 3",
   "language": "python",
   "name": "python3"
  },
  "language_info": {
   "codemirror_mode": {
    "name": "ipython",
    "version": 3
   },
   "file_extension": ".py",
   "mimetype": "text/x-python",
   "name": "python",
   "nbconvert_exporter": "python",
   "pygments_lexer": "ipython3",
   "version": "3.6.0"
  }
 },
 "nbformat": 4,
 "nbformat_minor": 2
}
